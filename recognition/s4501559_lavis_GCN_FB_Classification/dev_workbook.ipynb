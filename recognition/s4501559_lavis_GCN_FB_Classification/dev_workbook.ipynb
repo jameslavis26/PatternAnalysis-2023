{
 "cells": [
  {
   "cell_type": "code",
   "execution_count": 1,
   "metadata": {},
   "outputs": [],
   "source": [
    "import torch\n",
    "import numpy as np\n",
    "import csv\n",
    "import pandas as pd\n",
    "\n",
    "import json\n",
    "\n",
    "from torch_geometric.data import Data\n",
    "from torch_geometric.loader import NeighborLoader\n",
    "from torch_geometric.nn import GCNConv\n",
    "\n",
    "import torch.nn.functional as F\n",
    "from torch.optim import SGD\n",
    "from torch import nn\n",
    "\n",
    "from tqdm import tqdm\n",
    "\n",
    "from collections import defaultdict\n",
    "\n",
    "from sklearn.manifold import TSNE"
   ]
  },
  {
   "cell_type": "code",
   "execution_count": 2,
   "metadata": {},
   "outputs": [],
   "source": [
    "device = 'cuda' if torch.cuda.is_available() else 'cpu'"
   ]
  },
  {
   "cell_type": "code",
   "execution_count": 8,
   "metadata": {},
   "outputs": [],
   "source": [
    "from dataset import Dataset\n",
    "from modules import GCN\n",
    "from train import train_model\n",
    "from predict import model_inference"
   ]
  },
  {
   "cell_type": "markdown",
   "metadata": {},
   "source": [
    "# Load Data"
   ]
  },
  {
   "cell_type": "code",
   "execution_count": 4,
   "metadata": {},
   "outputs": [],
   "source": [
    "data = Dataset('datasets/facebook.npz', device=device)"
   ]
  },
  {
   "cell_type": "code",
   "execution_count": 5,
   "metadata": {},
   "outputs": [],
   "source": [
    "dataloader = data.data_loader(batchsize=32)"
   ]
  },
  {
   "cell_type": "markdown",
   "metadata": {},
   "source": [
    "# Build Model"
   ]
  },
  {
   "cell_type": "markdown",
   "metadata": {},
   "source": [
    "# Train Model"
   ]
  },
  {
   "cell_type": "code",
   "execution_count": 17,
   "metadata": {},
   "outputs": [
    {
     "name": "stderr",
     "output_type": "stream",
     "text": [
      "199/200, Loss 0.4393: 100%|██████████| 200/200 [01:18<00:00,  2.55it/s]\n"
     ]
    }
   ],
   "source": [
    "gcn_model = GCN(data.graph.x.shape[1], 4, hidden_layers=[32]*2).to(device)\n",
    "\n",
    "optimizer = SGD(gcn_model.parameters(), lr=0.25)\n",
    "\n",
    "CELoss = torch.nn.CrossEntropyLoss()\n",
    "\n",
    "train_model(gcn_model, optimizer, CELoss, dataloader)"
   ]
  },
  {
   "cell_type": "code",
   "execution_count": 18,
   "metadata": {},
   "outputs": [
    {
     "name": "stdout",
     "output_type": "stream",
     "text": [
      "> Inference Complete\n",
      "> Model Results\n",
      "\tTest Accuracy: 0.8457943797111511\n",
      "\tFull graph Accuracy: 0.8460614085197449\n"
     ]
    }
   ],
   "source": [
    "prediction = model_inference(gcn_model, data.graph)\n",
    "\n",
    "print(\"> Inference Complete\")\n",
    "accuracy = (prediction == data.graph.y).sum()/len(data.graph.y)\n",
    "test_accuracy = (prediction[data.graph.test_mask] == data.graph.y[data.graph.test_mask]).sum()/len(data.graph.y[data.graph.test_mask])\n",
    "\n",
    "print(\"> Model Results\")\n",
    "print(f\"\\tTest Accuracy: {test_accuracy}\")\n",
    "print(f\"\\tFull graph Accuracy: {accuracy}\")"
   ]
  },
  {
   "cell_type": "code",
   "execution_count": null,
   "metadata": {},
   "outputs": [],
   "source": []
  }
 ],
 "metadata": {
  "kernelspec": {
   "display_name": "venv",
   "language": "python",
   "name": "python3"
  },
  "language_info": {
   "codemirror_mode": {
    "name": "ipython",
    "version": 3
   },
   "file_extension": ".py",
   "mimetype": "text/x-python",
   "name": "python",
   "nbconvert_exporter": "python",
   "pygments_lexer": "ipython3",
   "version": "3.10.12"
  },
  "orig_nbformat": 4
 },
 "nbformat": 4,
 "nbformat_minor": 2
}
