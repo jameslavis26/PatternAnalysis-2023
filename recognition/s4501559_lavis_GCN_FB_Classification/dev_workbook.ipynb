{
 "cells": [
  {
   "cell_type": "code",
   "execution_count": null,
   "metadata": {},
   "outputs": [],
   "source": [
    "import torch\n",
    "import numpy as np\n",
    "import csv\n",
    "import pandas as pd\n",
    "\n",
    "import json\n",
    "\n",
    "from torch_geometric.data import Data\n",
    "from torch_geometric.loader import NeighborLoader\n",
    "from torch_geometric.nn import GCNConv\n",
    "\n",
    "import torch.nn.functional as F\n",
    "from torch.optim import SGD\n",
    "from torch.nn import ReLU\n",
    "\n",
    "from tqdm import tqdm"
   ]
  },
  {
   "cell_type": "markdown",
   "metadata": {},
   "source": [
    "# Load Data"
   ]
  },
  {
   "cell_type": "code",
   "execution_count": null,
   "metadata": {},
   "outputs": [],
   "source": [
    "raw_np = np.load('datasets/facebook.npz')"
   ]
  },
  {
   "cell_type": "code",
   "execution_count": null,
   "metadata": {},
   "outputs": [],
   "source": [
    "edges = torch.tensor(raw_np['edges'].T)\n",
    "node_features = torch.tensor(raw_np['features'])\n",
    "target = torch.tensor(raw_np['target'])#, dtype=torch.int32)"
   ]
  },
  {
   "cell_type": "code",
   "execution_count": null,
   "metadata": {},
   "outputs": [],
   "source": [
    "node_features.shape[0]"
   ]
  },
  {
   "cell_type": "code",
   "execution_count": null,
   "metadata": {},
   "outputs": [],
   "source": [
    "all_indices = np.arange(node_features.shape[0])\n",
    "train_mask = np.random.choice(all_indices, int(node_features.shape[0]*0.8), replace=False)\n",
    "test_mask = all_indices[~np.isin(all_indices, train_mask)]"
   ]
  },
  {
   "cell_type": "code",
   "execution_count": null,
   "metadata": {},
   "outputs": [],
   "source": [
    "graph = Data(\n",
    "    x=node_features, \n",
    "    edge_index=edges, \n",
    "    y=target,\n",
    "    test_mask = test_mask\n",
    ").contiguous()"
   ]
  },
  {
   "cell_type": "code",
   "execution_count": null,
   "metadata": {},
   "outputs": [],
   "source": [
    "graph_nl = NeighborLoader(\n",
    "    data=graph, \n",
    "    num_neighbors=[-1],\n",
    "    batch_size=32\n",
    ")"
   ]
  },
  {
   "cell_type": "markdown",
   "metadata": {},
   "source": [
    "# Build Model"
   ]
  },
  {
   "cell_type": "code",
   "execution_count": null,
   "metadata": {},
   "outputs": [],
   "source": [
    "class GCN(torch.nn.Module):\n",
    "    def __init__(self):\n",
    "        super().__init__()\n",
    "        self.conv1 = GCNConv(128, 16)\n",
    "        self.conv2 = GCNConv(16, 4)\n",
    "\n",
    "    def forward(self, data):\n",
    "        x, edge_index = data.x, data.edge_index\n",
    "\n",
    "        x = self.conv1(x, edge_index)\n",
    "        x = F.relu(x)\n",
    "        x = F.dropout(x, training=self.training)\n",
    "        x = self.conv2(x, edge_index)\n",
    "\n",
    "        return x"
   ]
  },
  {
   "cell_type": "code",
   "execution_count": null,
   "metadata": {},
   "outputs": [],
   "source": [
    "gcn_model = GCN()"
   ]
  },
  {
   "cell_type": "markdown",
   "metadata": {},
   "source": [
    "# Train Model"
   ]
  },
  {
   "cell_type": "code",
   "execution_count": null,
   "metadata": {},
   "outputs": [],
   "source": [
    "gcn_model = GCN()\n",
    "optimizer = SGD(gcn_model.parameters(), lr=0.001)\n",
    "CELoss = torch.nn.CrossEntropyLoss()\n",
    "\n",
    "epochs = tqdm(range(100))\n",
    "for epoch in epochs:\n",
    "    optimizer.zero_grad()\n",
    "\n",
    "    loss = 0\n",
    "    for batch in graph_nl:\n",
    "        pred = gcn_model(batch)\n",
    "        loss += CELoss(pred, batch.y)\n",
    "    loss.backward()\n",
    "    optimizer.step()\n",
    "    epochs.set_description(f\"{epoch}/{len(epochs)}, Loss {loss:.4f}\")\n",
    "\n",
    "    if loss > 1e5: break"
   ]
  },
  {
   "cell_type": "code",
   "execution_count": null,
   "metadata": {},
   "outputs": [],
   "source": [
    "batch.test_mask.shape"
   ]
  },
  {
   "cell_type": "code",
   "execution_count": null,
   "metadata": {},
   "outputs": [],
   "source": [
    "test_mask.shape"
   ]
  },
  {
   "cell_type": "code",
   "execution_count": null,
   "metadata": {},
   "outputs": [],
   "source": []
  }
 ],
 "metadata": {
  "kernelspec": {
   "display_name": "venv",
   "language": "python",
   "name": "python3"
  },
  "language_info": {
   "codemirror_mode": {
    "name": "ipython",
    "version": 3
   },
   "file_extension": ".py",
   "mimetype": "text/x-python",
   "name": "python",
   "nbconvert_exporter": "python",
   "pygments_lexer": "ipython3",
   "version": "3.10.12"
  },
  "orig_nbformat": 4
 },
 "nbformat": 4,
 "nbformat_minor": 2
}
