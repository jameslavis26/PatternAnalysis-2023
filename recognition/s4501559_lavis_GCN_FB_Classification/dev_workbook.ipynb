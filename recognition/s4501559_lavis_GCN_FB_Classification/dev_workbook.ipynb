{
 "cells": [
  {
   "cell_type": "code",
   "execution_count": null,
   "metadata": {},
   "outputs": [],
   "source": [
    "import torch\n",
    "import numpy as np\n",
    "import csv\n",
    "import pandas as pd\n",
    "\n",
    "import json\n",
    "\n",
    "from torch_geometric.data import Data\n",
    "from torch_geometric.loader import NeighborLoader\n",
    "from torch_geometric.nn import GCNConv, Sequential\n",
    "\n",
    "import torch.nn.functional as F\n",
    "from torch.optim import SGD\n",
    "from torch import nn\n",
    "\n",
    "from tqdm import tqdm\n",
    "\n",
    "from collections import defaultdict"
   ]
  },
  {
   "cell_type": "code",
   "execution_count": null,
   "metadata": {},
   "outputs": [],
   "source": [
    "device = 'cuda'"
   ]
  },
  {
   "cell_type": "markdown",
   "metadata": {},
   "source": [
    "# Load Data"
   ]
  },
  {
   "cell_type": "code",
   "execution_count": null,
   "metadata": {},
   "outputs": [],
   "source": [
    "raw_np = np.load('datasets/facebook.npz')"
   ]
  },
  {
   "cell_type": "code",
   "execution_count": null,
   "metadata": {},
   "outputs": [],
   "source": [
    "edges = torch.tensor(raw_np['edges'].T).to(device)\n",
    "node_features = torch.tensor(raw_np['features']).to(device)\n",
    "target = torch.tensor(raw_np['target']).to(device)"
   ]
  },
  {
   "cell_type": "code",
   "execution_count": null,
   "metadata": {},
   "outputs": [],
   "source": [
    "all_indices = np.arange(node_features.shape[0])\n",
    "train_indices = np.random.choice(all_indices, int(node_features.shape[0]*0.8), replace=False)\n",
    "test_indices = all_indices[~np.isin(all_indices, train_indices)]"
   ]
  },
  {
   "cell_type": "code",
   "execution_count": null,
   "metadata": {},
   "outputs": [],
   "source": [
    "train_mask = np.isin(all_indices, train_indices)\n",
    "train_mask = torch.tensor(train_mask)\n",
    "\n",
    "test_mask = ~np.isin(all_indices, train_indices)\n",
    "test_mask = torch.tensor(test_mask)"
   ]
  },
  {
   "cell_type": "code",
   "execution_count": null,
   "metadata": {},
   "outputs": [],
   "source": [
    "graph = Data(\n",
    "    x=node_features, \n",
    "    edge_index=edges, \n",
    "    y=target,\n",
    "    train_mask = train_mask, \n",
    "    test_mask = test_mask\n",
    ").contiguous().to(device)"
   ]
  },
  {
   "cell_type": "code",
   "execution_count": null,
   "metadata": {},
   "outputs": [],
   "source": [
    "graph_nl = NeighborLoader(\n",
    "    data=graph, \n",
    "    num_neighbors=[-1],\n",
    "    batch_size=64\n",
    ")"
   ]
  },
  {
   "cell_type": "markdown",
   "metadata": {},
   "source": [
    "# Build Model"
   ]
  },
  {
   "cell_type": "code",
   "execution_count": null,
   "metadata": {},
   "outputs": [],
   "source": [
    "class GCN(nn.Module):\n",
    "    def __init__(self, in_channels, n_classes, hidden_layers = []):\n",
    "        super().__init__()\n",
    "        if hidden_layers:\n",
    "            self.conv_layers = nn.ModuleList(\n",
    "                [\n",
    "                    GCNConv(in_channels, hidden_layers[0]),\n",
    "                ]\n",
    "            )\n",
    "\n",
    "            for i in range(len(hidden_layers)-1):\n",
    "                self.conv_layers.append(\n",
    "                    GCNConv(hidden_layers[i], hidden_layers[i+1])\n",
    "                )\n",
    "\n",
    "            self.conv_layers.append(GCNConv(hidden_layers[-1], n_classes))\n",
    "        else:\n",
    "            self.conv_layers = GCNConv(in_channels, n_classes)\n",
    "\n",
    "\n",
    "    def forward(self, data):\n",
    "        x, edge_index = data.x, data.edge_index\n",
    "        for i in range(len(self.conv_layers)-1):\n",
    "            x = self.conv_layers[i](x, edge_index)\n",
    "            x = F.relu(x)\n",
    "        x = self.conv_layers[-1](x, edge_index)\n",
    "        return x\n"
   ]
  },
  {
   "cell_type": "code",
   "execution_count": null,
   "metadata": {},
   "outputs": [],
   "source": [
    "model = GCN(graph.x.shape[1], 4, [64]).to(device)"
   ]
  },
  {
   "cell_type": "markdown",
   "metadata": {},
   "source": [
    "# Train Model"
   ]
  },
  {
   "cell_type": "code",
   "execution_count": null,
   "metadata": {},
   "outputs": [],
   "source": [
    "gcn_model = GCN(graph.x.shape[1], 4, hidden_layers=[64, 32, 16]).to(device)\n",
    "\n",
    "optimizer = SGD(gcn_model.parameters(), lr=0.5)\n",
    "CELoss = torch.nn.CrossEntropyLoss()\n",
    "\n",
    "results = defaultdict(list)\n",
    "epochs = tqdm(range(200))\n",
    "for epoch in epochs:\n",
    "    gcn_model.train()\n",
    "    optimizer.zero_grad()\n",
    "    loss = 0\n",
    "    for batch in graph_nl:\n",
    "        pred = gcn_model(batch)\n",
    "        loss += CELoss(pred[batch.train_mask], batch.y[batch.train_mask])\n",
    "    loss /= len(graph_nl)\n",
    "    loss.backward()\n",
    "    optimizer.step()\n",
    "\n",
    "    results['train_loss'].append(loss.to('cpu').detach().float())\n",
    "\n",
    "    gcn_model.eval()\n",
    "    pred = gcn_model(graph)\n",
    "    results['test_loss'].append(CELoss(pred[graph.test_mask], graph.y[graph.test_mask]).to('cpu').detach().float())\n",
    "\n",
    "    results['test accuracy'].append(((pred[graph.test_mask].argmax(axis=1)==graph.y[graph.test_mask]).sum()/len(graph.y[graph.test_mask])).to('cpu').detach().float())\n",
    "    results['full accuracy'].append(((pred.argmax(axis=1)==graph.y).sum()/len(graph.y)).to('cpu').detach().float())\n",
    "    \n",
    "    epochs.set_description(f\"{epoch}/{len(epochs)}, Loss {loss:.4f}\")\n",
    "\n",
    "    torch.cuda.empty_cache()"
   ]
  },
  {
   "cell_type": "code",
   "execution_count": null,
   "metadata": {},
   "outputs": [],
   "source": [
    "import matplotlib.pyplot as plt\n",
    "\n",
    "epochs = np.arange(len(epochs))\n",
    "n_plots = len(results)\n",
    "nrows = int(np.ceil(n_plots/2))\n",
    "\n",
    "fig, ax = plt.subplots(ncols=2, nrows=nrows, figsize=(15, 8))\n",
    "\n",
    "count = 0\n",
    "for result in results:\n",
    "    col = count%2\n",
    "    row = count//2\n",
    "    ax[row, col].plot(results[result])\n",
    "    ax[row, col].set_xlabel(\"epoch\")\n",
    "    ax[row, col].set_ylabel(result)\n",
    "    count += 1\n"
   ]
  },
  {
   "cell_type": "code",
   "execution_count": null,
   "metadata": {},
   "outputs": [],
   "source": [
    "results['test accuracy']"
   ]
  },
  {
   "cell_type": "code",
   "execution_count": null,
   "metadata": {},
   "outputs": [],
   "source": [
    "plt.plot(results['test_accuracy'], results['test_accuracy'])"
   ]
  },
  {
   "cell_type": "code",
   "execution_count": null,
   "metadata": {},
   "outputs": [],
   "source": []
  }
 ],
 "metadata": {
  "kernelspec": {
   "display_name": "venv",
   "language": "python",
   "name": "python3"
  },
  "language_info": {
   "codemirror_mode": {
    "name": "ipython",
    "version": 3
   },
   "file_extension": ".py",
   "mimetype": "text/x-python",
   "name": "python",
   "nbconvert_exporter": "python",
   "pygments_lexer": "ipython3",
   "version": "3.10.12"
  },
  "orig_nbformat": 4
 },
 "nbformat": 4,
 "nbformat_minor": 2
}
